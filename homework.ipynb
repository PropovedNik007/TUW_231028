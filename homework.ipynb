{
 "cells": [
  {
   "cell_type": "markdown",
   "id": "30c4d9e6-95b7-47af-8aec-9f91dce6d379",
   "metadata": {},
   "source": [
    "# Assignment 2\n",
    "Based on Vienna's GTFS data (`data/GTFS`), find the average headway of U1 at Stephansplatz (to Wien Leopoldau) from 7:00 to 9:00 on a typical Monday in October, 2024.\n",
    "\n",
    "Hint: for records meeting the above conditions, they have:\n",
    "* agency_id == 4 (Wiener Linien GmbH & Co KG)\n",
    "* route_short_name == 'U1'\n",
    "* service_id == 'T5#9' (weekdays from 20240819 to 20241124)\n",
    "* direction_id == 0 or trip_headsign == 'Wien Leopoldau'\n",
    "* stop_id = 'at:49:1320:0:6' (Stephansplatz)"
   ]
  },
  {
   "cell_type": "code",
   "execution_count": null,
   "id": "9ba773de-4057-4dca-a23b-dd2e7c2de6f4",
   "metadata": {},
   "outputs": [],
   "source": [
    "# !rm -rf data && mkdir data"
   ]
  },
  {
   "cell_type": "code",
   "execution_count": null,
   "id": "702665fa-127f-4d74-8368-e224895811fc",
   "metadata": {},
   "outputs": [],
   "source": [
    "# ### download the data.zip file from: https://tuwienacat-my.sharepoint.com/:f:/g/personal/bingyu_zhao_tuwien_ac_at/EkhK2y95nU9Pu7jBNSX6zsEBuMzb1rslbH7gBzFF0UsmvQ?e=Tf5iA8\n",
    "# ### upload it to the data folder\n",
    "# !unzip data/data.zip -d data"
   ]
  },
  {
   "cell_type": "code",
   "execution_count": null,
   "id": "f7a06b7a-a135-4259-879b-8bb086968177",
   "metadata": {},
   "outputs": [],
   "source": [
    "### import libraries data analysis\n",
    "import numpy as np\n",
    "import pandas as pd\n",
    "\n",
    "### import libraries for plotting\n",
    "import matplotlib.pyplot as plt\n",
    "\n",
    "### other utilities\n",
    "import glob"
   ]
  },
  {
   "cell_type": "markdown",
   "id": "a4738353-3045-4dd7-9a12-a5430a64fb04",
   "metadata": {},
   "source": [
    "### Step 1. Familiarise yourself with the GTFS files"
   ]
  },
  {
   "cell_type": "code",
   "execution_count": null,
   "id": "9afc71b9-24cc-493e-95c9-f82d6f2a4caf",
   "metadata": {},
   "outputs": [],
   "source": [
    "### list all the files in the given folder\n",
    "glob.glob('data/GTFS/*')"
   ]
  },
  {
   "cell_type": "code",
   "execution_count": null,
   "id": "a9ece134-d75b-4351-8018-087d9f78b44d",
   "metadata": {},
   "outputs": [],
   "source": [
    "### look inside each file, for example, 'agency.txt'\n",
    "gtfs_agency = pd.read_csv('data/GTFS/agency.txt')\n",
    "gtfs_agency.head()\n",
    "\n",
    "### feel free to look inside other files"
   ]
  },
  {
   "cell_type": "markdown",
   "id": "4ba7d0be-8fb2-4857-9dc9-3f46be94b047",
   "metadata": {},
   "source": [
    "### Step 2. Find all records\n",
    "U1, to Wien Leopoldau, weekday, stops at Stephansplatz"
   ]
  },
  {
   "cell_type": "code",
   "execution_count": null,
   "id": "84bb1708-c571-429c-bde3-0bf030df9471",
   "metadata": {},
   "outputs": [],
   "source": [
    "### list all routes with name \"U1\"\n",
    "routes = pd.read_csv('data/GTFS/routes.txt')\n",
    "routes_u1 = gtfs_routes[gtfs_routes['route_short_name']=='U1']\n",
    "routes_u1.head()\n",
    "\n",
    "### there seems multiple routes with the name \"U1\". Which row (route_id) should we use?"
   ]
  },
  {
   "cell_type": "code",
   "execution_count": null,
   "id": "1a14a9ca-0ba0-4336-b926-f3989d61961e",
   "metadata": {},
   "outputs": [],
   "source": [
    "### read all trip records\n",
    "trips = pd.read_csv('data/GTFS/trips.txt')\n",
    "# display(trips_u1.head())\n",
    "\n",
    "### list all trips associated with \"U1\" routes\n",
    "trips_u1 = trips[trips['route_id'].isin(routes_u1['route_id'])]\n",
    "# display(trips_u1.head())\n",
    "\n",
    "### filter for trips (1) running on the weekdays; and (2) to Wien Leopoldau\n",
    "trips_u1_mon = trips_u1.copy()\n",
    "trips_u1_mon = trips_u1_mon[(trips_u1_mon['service_id'].isin(['T5#9'])) & (trips_u1_mon['trip_headsign']=='Wien Leopoldau')]\n",
    "display(trips_u1_mon.head())"
   ]
  },
  {
   "cell_type": "code",
   "execution_count": null,
   "id": "1b8ea78c-0b46-4a78-b0c4-8661937aa4fd",
   "metadata": {},
   "outputs": [],
   "source": [
    "### read all stop times information\n",
    "stop_times = pd.read_csv('data/GTFS/stop_times.txt')\n",
    "# display(stop_times.head())\n",
    "\n",
    "### list all stop times for U1 trips (1) running on the weekdays; and (2) to Wien Leopoldau\n",
    "stop_times_u1_mon = stop_times[stop_times['trip_id'].isin(trips_u1_mon['trip_id'])]\n",
    "# display(stop_times_u1_am.head())\n",
    "\n",
    "### filter for all stop times for the above trips at stephansplatz\n",
    "stop_times_u1_mon_stephans = stop_times_u1_mon.copy()\n",
    "stop_times_u1_mon_stephans = stop_times_u1_mon_stephans[stop_times_u1_mon_stephans['stop_id']=='at:49:1320:0:6']\n",
    "stop_times_u1_mon_stephans = stop_times_u1_mon_stephans.sort_values('arrival_time')\n",
    "display(stop_times_u1_mon_stephans.head())\n"
   ]
  },
  {
   "cell_type": "markdown",
   "id": "91cbcd01-d50d-41d4-9e2f-c550772ca795",
   "metadata": {},
   "source": [
    "### Step 3. Calculate the average headway\n",
    "Filter for trains arriving between 7:00 and 9:00"
   ]
  },
  {
   "cell_type": "code",
   "execution_count": null,
   "id": "7c741014-34d6-4699-b8d6-65c3e81a4fe2",
   "metadata": {},
   "outputs": [],
   "source": [
    "### only keep the trains arriving between 7:00 and 9:00\n",
    "stop_times_u1_mon_stephans_am = stop_times_u1_mon_stephans.copy()\n",
    "stop_times_u1_mon_stephans_am['arrival_hour'] = stop_times_u1_mon_stephans_am['arrival_time'].str.split(':').str[0]\n",
    "stop_times_u1_mon_stephans_am = stop_times_u1_mon_stephans_am[stop_times_u1_mon_stephans_am['arrival_hour'].isin(['07', '08'])]\n",
    "stop_times_u1_mon_stephans_am.head()"
   ]
  },
  {
   "cell_type": "code",
   "execution_count": null,
   "id": "0ed09f70-b730-4925-bc57-dc0b6341ef0f",
   "metadata": {},
   "outputs": [],
   "source": [
    "### what is the average headway in minutes?\n",
    "average_headway = 120 / ??"
   ]
  },
  {
   "cell_type": "code",
   "execution_count": null,
   "id": "6995f7bc-5016-4d5b-a71b-8b83b166ecc3",
   "metadata": {},
   "outputs": [],
   "source": []
  }
 ],
 "metadata": {
  "kernelspec": {
   "display_name": "Python 3 (ipykernel)",
   "language": "python",
   "name": "python3"
  },
  "language_info": {
   "codemirror_mode": {
    "name": "ipython",
    "version": 3
   },
   "file_extension": ".py",
   "mimetype": "text/x-python",
   "name": "python",
   "nbconvert_exporter": "python",
   "pygments_lexer": "ipython3",
   "version": "3.12.3"
  }
 },
 "nbformat": 4,
 "nbformat_minor": 5
}
