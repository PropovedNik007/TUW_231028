{
 "cells": [
  {
   "cell_type": "code",
   "execution_count": null,
   "id": "7cd79e58-0063-46c9-aa36-3748657c11c8",
   "metadata": {},
   "outputs": [],
   "source": [
    "# ### install requested packages\n",
    "# !pip install contextily\n",
    "# !pip install statsmodels\n",
    "\n",
    "# ### download necessary data\n",
    "# !rm -rf util && mkdir util\n",
    "# !wget 'https://raw.githubusercontent.com/bz247/TUW_231028/refs/heads/main/util/haversine.py' -O util/haversine.py\n",
    "\n",
    "# !rm -rf data && mkdir data"
   ]
  },
  {
   "cell_type": "code",
   "execution_count": null,
   "id": "0771905d-232e-4d94-a83b-5172baefc471",
   "metadata": {},
   "outputs": [],
   "source": [
    "# ### download the data.zip file from: https://tuwienacat-my.sharepoint.com/:f:/g/personal/bingyu_zhao_tuwien_ac_at/EkhK2y95nU9Pu7jBNSX6zsEBuMzb1rslbH7gBzFF0UsmvQ?e=Tf5iA8\n",
    "# ### upload it to the data folder\n",
    "# !unzip data/data.zip -d data"
   ]
  },
  {
   "cell_type": "code",
   "execution_count": null,
   "id": "540dc0d6-4d81-45e9-a311-93316a55bcc1",
   "metadata": {},
   "outputs": [],
   "source": [
    "### import libraries data analysis\n",
    "import numpy as np\n",
    "import pandas as pd\n",
    "import statsmodels.formula.api as smf\n",
    "\n",
    "### import libraries for plotting\n",
    "import matplotlib.pyplot as plt\n",
    "\n",
    "### import libraries for geodata analysis and visualisation\n",
    "import shapely\n",
    "import geopandas as gpd\n",
    "import contextily as ctx\n",
    "from util import haversine ### user define"
   ]
  },
  {
   "cell_type": "markdown",
   "id": "062611f6-6aa7-48d0-ba29-6eece4280af3",
   "metadata": {},
   "source": [
    "### Exercise 1. Descriptive statistics with GPS trajectories\n",
    "The GPS data are collected from two tram trips in Vienna. Please calculate:\n",
    "* The total length of each trip (km)\n",
    "* The time duration of each trip (min)\n",
    "* The space-mean speed of each trip (km/h)\n",
    "* The speed variation of each trip (km/h)\n",
    "* The time-mean speed of these two trips when passing through the Franzensbrücke/Donaukanal (lat: 48.213220952644534, lon 16.391347808889147) in km/h"
   ]
  },
  {
   "cell_type": "markdown",
   "id": "5fda3fbc-bb7e-4162-90bc-a3432c8219c0",
   "metadata": {},
   "source": [
    "#### Step 1. Read the data"
   ]
  },
  {
   "cell_type": "code",
   "execution_count": null,
   "id": "e17150b7-d3c5-409b-83c9-3ce570431d94",
   "metadata": {},
   "outputs": [],
   "source": [
    "### read and examine the data\n",
    "gps_trip1 = pd.read_csv('data/GPS/GPS_trip1.csv')\n",
    "display(gps_trip1.head())\n",
    "\n",
    "gps_trip2 = pd.read_csv('data/GPS/GPS_trip2.csv')\n",
    "display(gps_trip2.tail())"
   ]
  },
  {
   "cell_type": "markdown",
   "id": "f8a165b7-cf44-4639-a848-4b4611f38d15",
   "metadata": {},
   "source": [
    "#### Step 2. Visualise the data"
   ]
  },
  {
   "cell_type": "code",
   "execution_count": null,
   "id": "30c8f380-051e-4a93-b0fd-b4d2ec7669c4",
   "metadata": {},
   "outputs": [],
   "source": [
    "### visualisation 1. plotting the data on a map\n",
    "fig, ax = plt.subplots(1, 2)\n",
    "\n",
    "### first trip\n",
    "gps_trip1 = gpd.GeoDataFrame(gps_trip1, crs='epsg:4326', \n",
    "                             geometry=[shapely.geometry.Point(xy) for xy in zip(gps_trip1['Longitude (°)'], gps_trip1['Latitude (°)'])])\n",
    "gps_trip1 = gps_trip1.to_crs(3857) ### transform coordinate reference system to match the background map\n",
    "gps_trip1.plot(markersize=1, ax=ax[0])\n",
    "ax[0].set_xlim([ax[0].get_xlim()[0]*0.9997, ax[0].get_xlim()[1]*1.0003])\n",
    "ax[0].set_ylim([ax[0].get_ylim()[0]*0.9999, ax[0].get_ylim()[1]*1.0001])\n",
    "ctx.add_basemap(ax[0], alpha=0.5)\n",
    "\n",
    "### second trip\n",
    "gps_trip2 = gpd.GeoDataFrame(gps_trip2, crs='epsg:4326', \n",
    "                             geometry=[shapely.geometry.Point(xy) for xy in zip(gps_trip2['Longitude (°)'], gps_trip2['Latitude (°)'])])\n",
    "gps_trip2 = gps_trip2.to_crs(3857) ### transform coordinate reference system to match the background map\n",
    "gps_trip2.plot(markersize=1, color='red', ax=ax[1])\n",
    "ax[1].set_xlim([ax[1].get_xlim()[0]*0.9997, ax[1].get_xlim()[1]*1.0003])\n",
    "ax[1].set_ylim([ax[1].get_ylim()[0]*0.9999, ax[1].get_ylim()[1]*1.0001])\n",
    "ctx.add_basemap(ax[1], alpha=0.5)\n"
   ]
  },
  {
   "cell_type": "code",
   "execution_count": null,
   "id": "66f9fd75-5897-44f5-b6a4-16aeeb82bb65",
   "metadata": {},
   "outputs": [],
   "source": [
    "### visualisation 2. plotting the temporal changes of speed\n",
    "fig, ax = plt.subplots(2, 1, figsize=(6, 4))\n",
    "\n",
    "### first trip\n",
    "ax[0].plot(gps_trip1['Time (s)'], gps_trip1['Speed (m/s)'])\n",
    "\n",
    "### second trip\n",
    "ax[1].plot(gps_trip2['Time (s)'], gps_trip2['Speed (m/s)'], color='red')\n",
    "\n",
    "### style\n",
    "for ax_i in ax:\n",
    "    ax_i.set_xlim([0, 650])\n",
    "    ax_i.set_ylim([0, 16])\n",
    "    ax_i.set_xlabel('Time (s)')\n",
    "    ax_i.set_ylabel('Speed (m/s)')"
   ]
  },
  {
   "cell_type": "markdown",
   "id": "634c72dd-6c84-4d74-a954-4158c7b80437",
   "metadata": {},
   "source": [
    "#### Step 3. Calculate the summary statistics"
   ]
  },
  {
   "cell_type": "code",
   "execution_count": null,
   "id": "77baf758-0cf3-4b70-be08-c9ce9520479c",
   "metadata": {},
   "outputs": [],
   "source": [
    "# The total length of each trip\n",
    "trip_1_length = \n",
    "print(f'The length of trip 1 is {trip_1_length:.03f} km')\n",
    "\n",
    "trip_2_length = \n",
    "print(f'The length of trip 2 is {trip_2_length:.03f} km')"
   ]
  },
  {
   "cell_type": "code",
   "execution_count": null,
   "id": "191fbaaf-0832-4e64-b10a-ff2420d5aa9a",
   "metadata": {},
   "outputs": [],
   "source": [
    "# The time duration of each trip\n",
    "trip_1_time = \n",
    "print(f'The length of trip 1 is {trip_1_time:.01f} min')\n",
    "\n",
    "trip_2_time = \n",
    "print(f'The length of trip 2 is {trip_2_time:.01f} min')"
   ]
  },
  {
   "cell_type": "code",
   "execution_count": null,
   "id": "fa4d04d6-16e6-46d6-850d-2cfbcfcd90bc",
   "metadata": {},
   "outputs": [],
   "source": [
    "# The space-mean speed of each trip\n",
    "trip_1_speed = \n",
    "trip_1_speed_alternative = gps_trip1['Speed (m/s)'].mean() * 3600/1000\n",
    "print(f'The space-mean speed of trip 1 is {trip_1_speed:.01f} km/h, or {trip_1_speed_alternative:.01f} km/h?')\n",
    "\n",
    "trip_2_speed = \n",
    "trip_2_speed_alternative = gps_trip2['Speed (m/s)'].mean() * 3600/1000\n",
    "print(f'The space-mean speed of trip 2 is {trip_2_speed:.01f} km/h, or {trip_2_speed_alternative:.01f} km/h?')"
   ]
  },
  {
   "cell_type": "code",
   "execution_count": null,
   "id": "aabcc98c-8b06-43d2-b97d-6dd5ca27dadb",
   "metadata": {},
   "outputs": [],
   "source": [
    "# The speed variation of each trip\n",
    "trip_1_speed_variation = \n",
    "print(f'The speed variation of trip 1 is {trip_1_speed_variation:.01f} km/h')\n",
    "\n",
    "trip_2_speed_variation = \n",
    "print(f'The speed variation of trip 2 is {trip_2_speed_variation:.01f} km/h')"
   ]
  },
  {
   "cell_type": "code",
   "execution_count": null,
   "id": "aa0df26a-edec-43a0-8d0b-658248530ab6",
   "metadata": {},
   "outputs": [],
   "source": [
    "# The time-mean speed of these two trips when passing through the Franzensbrücke/Donaukanal (lat: 48.213220952644534, lon 16.391347808889147)\n",
    "bridge_lat, bridge_lon = 48.213220952644534, 16.391347808889147\n",
    "gps_trip1['bridge_distance'] = haversine.haversine(gps_trip1['Latitude (°)'], gps_trip1['Longitude (°)'], bridge_lat, bridge_lon)\n",
    "gps_trip2['bridge_distance'] = haversine.haversine(gps_trip2['Latitude (°)'], gps_trip2['Longitude (°)'], bridge_lat, bridge_lon)\n",
    "\n",
    "# display(gps_trip1.loc[gps_trip1['bridge_distance']<10])\n",
    "# display(gps_trip2.loc[gps_trip2['bridge_distance']<10])\n",
    "\n",
    "bridge_speed1 = ### speed where the bridge_distance is the smallest\n",
    "bridge_speed2 = ### speed where the bridge_distance is the smallest\n",
    "bridge_speed_mean = \n",
    "print(f'The time-mean speed of these two trips when passing through the Franzensbrücke/Donaukanal is {bridge_speed_mean:.01f} km/h')"
   ]
  },
  {
   "cell_type": "markdown",
   "id": "9824d7a2-d5d8-4f18-b7ff-12e988822c5f",
   "metadata": {},
   "source": [
    "### Exercise 2. Multiple regression of subway monthly ticket purchase decisions"
   ]
  },
  {
   "cell_type": "markdown",
   "id": "836c5980-e18f-4c3f-af20-aab58d1cca08",
   "metadata": {},
   "source": [
    "#### Step 1. Read in the survey data"
   ]
  },
  {
   "cell_type": "code",
   "execution_count": null,
   "id": "b8ce5061-557a-4730-9ac3-bbbf2d634df2",
   "metadata": {},
   "outputs": [],
   "source": [
    "survey = pd.read_csv('data/survey_data/survey_data.csv')\n",
    "survey.head()"
   ]
  },
  {
   "cell_type": "markdown",
   "id": "86ec02af-c419-4888-bec3-a141b6f57dab",
   "metadata": {},
   "source": [
    "#### Step 2. Build a logistic regression model"
   ]
  },
  {
   "cell_type": "code",
   "execution_count": null,
   "id": "a08ac1d9-c944-4d6d-af09-4e0da1383eaf",
   "metadata": {},
   "outputs": [],
   "source": [
    "### hint: you can use\n",
    "### (1) statsmodels.formula.api.logit\n",
    "### (2) statsmodels.api.Logit (remember to add a constant)\n",
    "### (3) sklearn.linear_model.LogisticRegression()\n",
    "### you can also split the data into training and testing sets\n",
    "### what are the model coefficients?"
   ]
  },
  {
   "cell_type": "markdown",
   "id": "13f46da5-3b06-43e4-987e-620559e83466",
   "metadata": {},
   "source": [
    "#### Step 3. Plot the results"
   ]
  },
  {
   "cell_type": "code",
   "execution_count": null,
   "id": "55ebf678-7e48-41b5-a672-decf73e1fb91",
   "metadata": {},
   "outputs": [],
   "source": [
    "predict = survey.copy()\n",
    "predict['predict'] = ### predicted values of choice probability from the model\n",
    "predict['linear'] = ### linear combinations of the explanatory variables\n",
    "\n",
    "fig, ax = plt.subplots(figsize=(5, 3))\n",
    "ax.scatter(predict['linear'], predict['predict'], s=1, c='k', label='predict')\n",
    "ax.scatter(predict['linear'], predict['choice'], s=10, c='r', alpha=0.002, label='actual choice')\n",
    "ax.legend()\n",
    "ax.set_xlabel('Linear combination of explanatory variables')\n",
    "ax.set_ylabel('Choice outcome')"
   ]
  },
  {
   "cell_type": "code",
   "execution_count": null,
   "id": "198d4103-feff-475d-8564-af07ac058e77",
   "metadata": {},
   "outputs": [],
   "source": []
  }
 ],
 "metadata": {
  "kernelspec": {
   "display_name": "Python 3 (ipykernel)",
   "language": "python",
   "name": "python3"
  },
  "language_info": {
   "codemirror_mode": {
    "name": "ipython",
    "version": 3
   },
   "file_extension": ".py",
   "mimetype": "text/x-python",
   "name": "python",
   "nbconvert_exporter": "python",
   "pygments_lexer": "ipython3",
   "version": "3.12.3"
  }
 },
 "nbformat": 4,
 "nbformat_minor": 5
}
